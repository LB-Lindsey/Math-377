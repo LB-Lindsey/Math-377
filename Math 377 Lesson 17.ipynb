{
 "cells": [
  {
   "cell_type": "code",
   "execution_count": 1,
   "metadata": {},
   "outputs": [],
   "source": [
    "from datascience import *\n",
    "import numpy as np\n",
    "from math import *"
   ]
  },
  {
   "cell_type": "markdown",
   "metadata": {},
   "source": [
    "Documentation: I missed this lesson so I needed a lot of help and will need to schedule EI on these topics.  I got help from Matt Doudnikoff on a lot of the formulas and some of the process of simplifying. "
   ]
  },
  {
   "cell_type": "markdown",
   "metadata": {},
   "source": [
    "## Transformations"
   ]
  },
  {
   "cell_type": "markdown",
   "metadata": {},
   "source": [
    "In some cases, we may be interested in the distribution of a transformation of a random variable. For example, if we know the distribution of $X$, we may wish to know the distribution of $X^2$ or $2X$. \n",
    "\n",
    "It helps to consider the pmf/cdf of the original random variables. Let $Y=t(X)$ where $X$ is discrete:\n",
    "\n",
    "$$\n",
    "f_Y(y)=P(Y=y) = P(t(X)=y) = P( X = t^{-1}(y))\n",
    "$$\n",
    "\n",
    "In the continuous case, let's consider the cdf:\n",
    "\n",
    "$$\n",
    "F_Y(y)=P(Y\\leq y) = P(t(X)\\leq y) = P(X \\leq t^{-1}(y)) = F_X(t^{-1}(y))\n",
    "$$"
   ]
  },
  {
   "cell_type": "markdown",
   "metadata": {},
   "source": [
    "### Discrete"
   ]
  },
  {
   "cell_type": "markdown",
   "metadata": {},
   "source": [
    "#### Example 1\n",
    "\n",
    "Suppose the pmf for $X$ is given by the following table: \n",
    "\n",
    " | value of $X$  | -2 | -1 | 0 | 1 | 2 | \n",
    " | ------ | ------ | ----- | ----- | ----- | ----- |\n",
    " | probability | 0.05 | 0.10 | 0.35 | 0.30 | 0.20 |\n",
    "\n",
    "Find the distribution of $X^2$ and calculate $E(X^2)$. Does $E(X^2) = [E(X)]^2$? "
   ]
  },
  {
   "cell_type": "markdown",
   "metadata": {},
   "source": [
    " | value of $X^2$ | 0 | 1 | 4 | \n",
    " | ------ | ------ | ----- | ----- | ----- | ----- |\n",
    " | probability | 0.35 | 0.40 | 0.25 |"
   ]
  },
  {
   "cell_type": "code",
   "execution_count": 5,
   "metadata": {},
   "outputs": [
    {
     "data": {
      "text/plain": [
       "1.4"
      ]
     },
     "execution_count": 5,
     "metadata": {},
     "output_type": "execute_result"
    }
   ],
   "source": [
    "e_x_squared = (1*.4)+4*.25\n",
    "e_x_squared"
   ]
  },
  {
   "cell_type": "markdown",
   "metadata": {},
   "source": [
    "No, E(x^2) doesn't equal [E(X)]^2"
   ]
  },
  {
   "cell_type": "markdown",
   "metadata": {},
   "source": [
    "#### Example 2\n",
    "Let $X \\sim \\textsf{Binom}(n,p)$. What is the pmf for $X+3$? Make sure you specify the domain of $X+3$. "
   ]
  },
  {
   "cell_type": "markdown",
   "metadata": {},
   "source": [
    "Pmf = fx(y-3) where y=3,4,5...n+3"
   ]
  },
  {
   "cell_type": "markdown",
   "metadata": {},
   "source": [
    "#### Example 3\n",
    "\n",
    "Let $X \\sim \\textsf{Unif}(0,1)$. Let $Y=X^2$. Find the **pdf** of $Y$. Again, specify the domain of $Y$. "
   ]
  },
  {
   "cell_type": "markdown",
   "metadata": {},
   "source": [
    "cdf = FX(x) =x\n",
    "\n",
    "y=X^2\n",
    "\n",
    "fY(y) = P(Y<=y)=P(X^2<=y)=P(X<=Y^.5)\n",
    "\n",
    "FY(y)=y^.5\n",
    "\n",
    "pdf = fY(y) = .5*y^(-.5)\n",
    "\n",
    "0<y=1"
   ]
  },
  {
   "cell_type": "markdown",
   "metadata": {},
   "source": [
    "## Moment Generating Functions (MGF)"
   ]
  },
  {
   "cell_type": "markdown",
   "metadata": {},
   "source": [
    "One powerful concept in probability is the moment generating function (mgf). Let $X$ be a random variable. The mgf of $X$ is denoted by $M_X(t)$. This function is powerful because it can be used as a shortcut to find the $k$th central moment. Specifically,\n",
    "\n",
    "$$\n",
    "E(X^k) = \\frac{d^k}{dt^k} M_X(t) \\bigg |_{t=0}\n",
    "$$\n",
    "\n",
    "If you know the moment generating function of $X$, you can simply take the derivative of it with respect to $t$, evaluate at $t=0$ and the result is the expected value of $X$, $E(X)$. \n",
    "\n",
    "The mgf of $X$ is found by\n",
    "\n",
    "$$\n",
    "M_X(t) = E(e^{tX})\n",
    "$$\n",
    "\n",
    "#### Example 4: (I needed help with this one; got help from Matt Doudnikoff)\n",
    "\n",
    "Let $X$ be a random variable with the exponential distribution with parameter $\\lambda >0$. Recall that $f_X(x) = \\lambda e^{-\\lambda x}$, for $x>0$. Find the mgf of $X$. Use it to verify that $E(X) = \\frac{1}{\\lambda}$. \n",
    "\n"
   ]
  },
  {
   "cell_type": "markdown",
   "metadata": {},
   "source": [
    "MX(t) = intrate e^(t*X)*fX(x) over the interval 0 to infinity\n",
    "\n",
    "lambda(integral((e^(t-lambda)^X))\n",
    "\n",
    "-lambda*(1/(t-lambda))\n",
    "\n",
    "-lambda/(0-lambda)^2*-1\n",
    "\n",
    "E(X) = 1/lambda"
   ]
  },
  {
   "cell_type": "markdown",
   "metadata": {},
   "source": [
    "#### Example 5:\n",
    "\n",
    "The moment generating function of a random variable with the binomial distribution (with parameters $n$ and $p$) is given by $M_X(t) = (pe^t + 1 - p)^n$. Use the mgf to verify that $E(X)=np$ and $V(X)=np(1-p)$. Note that $V(X)=E(X^2)-[E(X)]^2$. "
   ]
  },
  {
   "cell_type": "markdown",
   "metadata": {},
   "source": [
    "V(X) = E(X^2)-[E(X)]^2 = n(n-1)p^2+np-(np)^2=n^2p^2-np^2+np-n^2p^2=-np^2 +np=np(-p+1)=np(1-p)"
   ]
  },
  {
   "cell_type": "markdown",
   "metadata": {},
   "source": [
    "### Important Results\n",
    "\n",
    "1) Let $X$ and $Y$ be random variables with mgfs $M_X$ and $M_Y$. $X$ and $Y$ are said to be identically distributed if and only if $M_X(t) = M_Y(t)$ for all $t$ in som interval containing 0. \n",
    "\n",
    "2) MGF of linear transformation of random variable: If $a$ and $b$ are constants, then \n",
    "\n",
    "$$\n",
    "M_{aX+b}(t) = e^{bt}M_X(at)\n",
    "$$\n",
    "\n",
    "3) MGF of sum of independent random variables: If $X$ and $Y$ are independent random variables with mgfs $M_X$ and $M_Y$, then\n",
    "\n",
    "$$\n",
    "M_{X+Y}(t)=M_X(t) \\cdot M_Y(t)\n",
    "$$\n",
    "\n",
    "\n",
    "I needed a lot of help on the next couple questions to understand and code it...\n",
    " "
   ]
  },
  {
   "cell_type": "markdown",
   "metadata": {},
   "source": [
    "#### Example 6 \n",
    "\n",
    "Let $X \\sim \\textsf{Exp}(\\lambda)$. Find the distribution of $Y=3X$."
   ]
  },
  {
   "cell_type": "markdown",
   "metadata": {},
   "source": [
    "MX(t) = =lambda/(lambda-t)\n",
    "\n",
    "MY(t) = e^(0*t)*MX(3X)\n",
    "\n",
    "MY(t) = (lambda/3)/((lambda/3)-t)\n",
    "\n",
    "Y~Exp(lambda/3)"
   ]
  },
  {
   "cell_type": "markdown",
   "metadata": {},
   "source": [
    "#### Example 7 \n",
    "\n",
    "Suppose $X_1, X_2, ..., X_n$ are independent identically distributed $\\textsf{Norm}(\\mu,\\sigma)$. Find the distribution of $S=X_1+X_2+...+X_n$ and $\\bar{X} = \\frac{X_1+X_2+...+X_n}{n}$. Note that the mgf of a normally distributed random variable is $M_X(t)=e^{\\mu t+\\sigma^2 t^2/2}$."
   ]
  },
  {
   "cell_type": "markdown",
   "metadata": {},
   "source": [
    "S~N(n*mu, n^(1/2)*sigma)\n",
    "\n",
    "S/n = (x1+x2+x3...xn)/n\n",
    "\n",
    "S/n~N(mu, omega/(n)^.5))"
   ]
  }
 ],
 "metadata": {
  "kernelspec": {
   "display_name": "Python 3",
   "language": "python",
   "name": "python3"
  },
  "language_info": {
   "codemirror_mode": {
    "name": "ipython",
    "version": 3
   },
   "file_extension": ".py",
   "mimetype": "text/x-python",
   "name": "python",
   "nbconvert_exporter": "python",
   "pygments_lexer": "ipython3",
   "version": "3.6.5"
  }
 },
 "nbformat": 4,
 "nbformat_minor": 2
}
